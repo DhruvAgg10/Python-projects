{
  "cells": [
    {
      "cell_type": "markdown",
      "metadata": {
        "id": "view-in-github",
        "colab_type": "text"
      },
      "source": [
        "<a href=\"https://colab.research.google.com/github/DhruvAgg10/Python-projects/blob/main/turboengine.ipynb\" target=\"_parent\"><img src=\"https://colab.research.google.com/assets/colab-badge.svg\" alt=\"Open In Colab\"/></a>"
      ]
    },
    {
      "cell_type": "code",
      "execution_count": null,
      "metadata": {
        "id": "clXoDZZV3zji"
      },
      "outputs": [],
      "source": [
        "import pandas as pd\n",
        "import numpy as np\n",
        "from sklearn.metrics import r2_score\n",
        "#import random forest regression\n",
        "from sklearn.ensemble import RandomForestRegressor\n",
        "#import test train split\n",
        "from sklearn.model_selection import train_test_split"
      ]
    },
    {
      "cell_type": "code",
      "source": [
        "dataset_paths = {\n",
        "    \"FD001\": \"/content/train_FD001.txt\",\n",
        "    \"FD002\": \"/content/train_FD002.txt\",\n",
        "    \"FD003\": \"/content/train_FD003.txt\",\n",
        "    \"FD004\": \"/content/train_FD004.txt\"\n",
        "}"
      ],
      "metadata": {
        "id": "K-Zz1pux9E0l"
      },
      "execution_count": null,
      "outputs": []
    },
    {
      "cell_type": "markdown",
      "source": [
        "Without sep=' '\n",
        "\n",
        "When you do not specify the sep parameter, pandas assumes the default separator (a comma , for CSV files).\n",
        "\n",
        "Since your file is space-separated, pandas reads the entire row as a single column, resulting in only one column.\n",
        "\n",
        "With sep=' '\n",
        "\n",
        "By specifying sep=' ' (space separator), pandas correctly interprets spaces as column dividers and properly separates the data into multiple columns."
      ],
      "metadata": {
        "id": "2lICWB6Z7LHH"
      }
    },
    {
      "cell_type": "markdown",
      "source": [
        "Column Headers for Train Data\n",
        "\n",
        "Unit Number – Unique identifier for each engine\n",
        "\n",
        "Time (cycles) – The number of operational cycles completed\n",
        "\n",
        "Operational Setting 1\n",
        "\n",
        "Operational Setting 2\n",
        "\n",
        "Operational Setting 3 6-26. Sensor Measurements 1 to 26 – Various engine sensor readings"
      ],
      "metadata": {
        "id": "4-5GabA-7S_-"
      }
    },
    {
      "cell_type": "code",
      "source": [
        "\n",
        "# List to store processed datasets\n",
        "datasets = []\n",
        "\n",
        "column_names = [\n",
        "    \"unit_number\", \"time_in_cycles\",\n",
        "    \"operational_setting_1\", \"operational_setting_2\", \"operational_setting_3\"\n",
        "] + [f\"sensor_{i}\" for i in range(1, 22)]\n",
        "\n",
        "for dataset_id, path in dataset_paths.items():\n",
        "    df = pd.read_csv(path, sep='\\s+', header=None)\n",
        "    df.columns = column_names\n",
        "    df['dataset_id'] = dataset_id\n",
        "\n",
        "    # Make unit_number unique by appending dataset_id\n",
        "    df['unit_number'] = df['unit_number'].astype(str) + \"_\" + dataset_id\n",
        "\n",
        "    # Compute RUL separately\n",
        "    df['RUL'] = df.groupby(\"unit_number\")[\"time_in_cycles\"].transform(max) - df[\"time_in_cycles\"]\n",
        "\n",
        "    datasets.append(df)\n",
        "\n",
        "\n",
        "\n",
        "\n"
      ],
      "metadata": {
        "colab": {
          "base_uri": "https://localhost:8080/"
        },
        "id": "k6BhaiEI6O7f",
        "outputId": "b6e324bd-92b0-4f17-d33b-0cca89df5a26"
      },
      "execution_count": null,
      "outputs": [
        {
          "output_type": "stream",
          "name": "stderr",
          "text": [
            "<ipython-input-3-74e022bc0c21>:18: FutureWarning: The provided callable <built-in function max> is currently using SeriesGroupBy.max. In a future version of pandas, the provided callable will be used directly. To keep current behavior pass the string \"max\" instead.\n",
            "  df['RUL'] = df.groupby(\"unit_number\")[\"time_in_cycles\"].transform(max) - df[\"time_in_cycles\"]\n",
            "<ipython-input-3-74e022bc0c21>:18: FutureWarning: The provided callable <built-in function max> is currently using SeriesGroupBy.max. In a future version of pandas, the provided callable will be used directly. To keep current behavior pass the string \"max\" instead.\n",
            "  df['RUL'] = df.groupby(\"unit_number\")[\"time_in_cycles\"].transform(max) - df[\"time_in_cycles\"]\n",
            "<ipython-input-3-74e022bc0c21>:18: FutureWarning: The provided callable <built-in function max> is currently using SeriesGroupBy.max. In a future version of pandas, the provided callable will be used directly. To keep current behavior pass the string \"max\" instead.\n",
            "  df['RUL'] = df.groupby(\"unit_number\")[\"time_in_cycles\"].transform(max) - df[\"time_in_cycles\"]\n",
            "<ipython-input-3-74e022bc0c21>:18: FutureWarning: The provided callable <built-in function max> is currently using SeriesGroupBy.max. In a future version of pandas, the provided callable will be used directly. To keep current behavior pass the string \"max\" instead.\n",
            "  df['RUL'] = df.groupby(\"unit_number\")[\"time_in_cycles\"].transform(max) - df[\"time_in_cycles\"]\n"
          ]
        }
      ]
    },
    {
      "cell_type": "code",
      "source": [
        "# Merge all datasets into one\n",
        "merged_data = pd.concat(datasets, ignore_index=True)\n",
        "\n",
        "print(f\"Merged dataset shape: {merged_data.shape}\")"
      ],
      "metadata": {
        "colab": {
          "base_uri": "https://localhost:8080/"
        },
        "id": "OZFfXxqD9eC2",
        "outputId": "5db727d9-acb3-4521-e3e7-ebd32ede3eef"
      },
      "execution_count": null,
      "outputs": [
        {
          "output_type": "stream",
          "name": "stdout",
          "text": [
            "Merged dataset shape: (160359, 28)\n"
          ]
        }
      ]
    },
    {
      "cell_type": "code",
      "source": [
        "\n",
        "# Merge all datasets\n",
        "merged_data = pd.concat(datasets, ignore_index=True)\n",
        "\n",
        "print(merged_data[['unit_number', 'dataset_id', 'RUL']].head())\n"
      ],
      "metadata": {
        "colab": {
          "base_uri": "https://localhost:8080/"
        },
        "id": "PhqEY7Eo-QfX",
        "outputId": "36e11d37-faed-463e-c242-52c07d96afb5"
      },
      "execution_count": null,
      "outputs": [
        {
          "output_type": "stream",
          "name": "stdout",
          "text": [
            "  unit_number dataset_id  RUL\n",
            "0     1_FD001      FD001  191\n",
            "1     1_FD001      FD001  190\n",
            "2     1_FD001      FD001  189\n",
            "3     1_FD001      FD001  188\n",
            "4     1_FD001      FD001  187\n"
          ]
        }
      ]
    },
    {
      "cell_type": "code",
      "source": [
        "print(merged_data['unit_number'].unique()[:10])  # Check first 10 unique engines\n"
      ],
      "metadata": {
        "colab": {
          "base_uri": "https://localhost:8080/"
        },
        "id": "AivHOrC_-xz_",
        "outputId": "ca12175e-a1e2-41b1-fcfd-05733d6bee32"
      },
      "execution_count": null,
      "outputs": [
        {
          "output_type": "stream",
          "name": "stdout",
          "text": [
            "['1_FD001' '2_FD001' '3_FD001' '4_FD001' '5_FD001' '6_FD001' '7_FD001'\n",
            " '8_FD001' '9_FD001' '10_FD001']\n"
          ]
        }
      ]
    },
    {
      "cell_type": "code",
      "source": [
        "dataset_mapping = {\"FD001\": 1, \"FD002\": 2, \"FD003\": 3, \"FD004\": 4}\n",
        "merged_data[\"dataset_id\"] = merged_data[\"dataset_id\"].map(dataset_mapping)"
      ],
      "metadata": {
        "id": "jgCqmgANAlKk"
      },
      "execution_count": null,
      "outputs": []
    },
    {
      "cell_type": "code",
      "source": [
        "# Check failure cycles for Engine 1 in each dataset\n",
        "for dataset_id in [1, 2, 3, 4]:\n",
        "    engine_1_max_cycles = merged_data[merged_data['unit_number'] == f'1_{dataset_id}']['time_in_cycles'].max()\n",
        "    print(f\"Engine 1 in {dataset_id} failed after {engine_1_max_cycles} cycles.\")"
      ],
      "metadata": {
        "colab": {
          "base_uri": "https://localhost:8080/"
        },
        "id": "4LSFCKRX6dV_",
        "outputId": "b0861669-ce69-49e3-f503-fe3429c0c3e9"
      },
      "execution_count": null,
      "outputs": [
        {
          "output_type": "stream",
          "name": "stdout",
          "text": [
            "Engine 1 in 1 failed after nan cycles.\n",
            "Engine 1 in 2 failed after nan cycles.\n",
            "Engine 1 in 3 failed after nan cycles.\n",
            "Engine 1 in 4 failed after nan cycles.\n"
          ]
        }
      ]
    },
    {
      "cell_type": "code",
      "execution_count": null,
      "metadata": {
        "id": "nUfE-ura6TEj",
        "colab": {
          "base_uri": "https://localhost:8080/"
        },
        "outputId": "e64784ff-e32e-4a9e-bd15-b85a8da9426f"
      },
      "outputs": [
        {
          "output_type": "stream",
          "name": "stdout",
          "text": [
            "Training data shape: (128287, 25)\n",
            "Validation data shape: (32072, 25)\n"
          ]
        }
      ],
      "source": [
        "from sklearn.model_selection import train_test_split\n",
        "\n",
        "# Define feature columns (excluding unit_number, time_in_cycles, and RUL)\n",
        "features = [col for col in merged_data.columns if col not in ['unit_number', 'time_in_cycles', 'RUL']]\n",
        "\n",
        "# Split data into training and validation sets\n",
        "X = merged_data[features]\n",
        "y = merged_data['RUL']\n",
        "X_train, X_val, y_train, y_val = train_test_split(X, y, test_size=0.2, random_state=42)\n",
        "\n",
        "print(f\"Training data shape: {X_train.shape}\")\n",
        "print(f\"Validation data shape: {X_val.shape}\")"
      ]
    },
    {
      "cell_type": "code",
      "source": [
        "from lightgbm import LGBMRegressor\n",
        "\n",
        "# Train LightGBM model\n",
        "lgbm_model = LGBMRegressor(n_estimators=200, learning_rate=0.05, max_depth=7, random_state=42)\n",
        "lgbm_model.fit(X_train, y_train)\n",
        "\n",
        "print(\"Model training completed! ✅\")"
      ],
      "metadata": {
        "colab": {
          "base_uri": "https://localhost:8080/"
        },
        "id": "MBPGnENp_y1G",
        "outputId": "462ba532-15b7-4047-aa37-91db5569999e"
      },
      "execution_count": null,
      "outputs": [
        {
          "output_type": "stream",
          "name": "stdout",
          "text": [
            "[LightGBM] [Info] Auto-choosing row-wise multi-threading, the overhead of testing was 0.012552 seconds.\n",
            "You can set `force_row_wise=true` to remove the overhead.\n",
            "And if memory is not enough, you can set `force_col_wise=true`.\n",
            "[LightGBM] [Info] Total Bins 3845\n",
            "[LightGBM] [Info] Number of data points in the train set: 128287, number of used features: 25\n",
            "[LightGBM] [Info] Start training from score 122.275110\n",
            "Model training completed! ✅\n"
          ]
        }
      ]
    },
    {
      "cell_type": "code",
      "execution_count": null,
      "metadata": {
        "id": "itkWdcP06xv-",
        "colab": {
          "base_uri": "https://localhost:8080/"
        },
        "outputId": "8c08730c-d64e-4f8d-e6ae-1ba8e9e7ef52"
      },
      "outputs": [
        {
          "output_type": "stream",
          "name": "stdout",
          "text": [
            "Model training completed! ✅\n"
          ]
        }
      ],
      "source": [
        "\n",
        "# Initialize the Random Forest model\n",
        "rf_model = RandomForestRegressor(n_estimators=100, random_state=42)\n",
        "\n",
        "# Train the model\n",
        "rf_model.fit(X_train, y_train)\n",
        "print(\"Model training completed! ✅\")"
      ]
    },
    {
      "cell_type": "code",
      "source": [
        "from xgboost import XGBRegressor\n",
        "\n",
        "# Train XGBoost model\n",
        "xgb_model = XGBRegressor(n_estimators=100, learning_rate=0.1, max_depth=5, random_state=42)\n",
        "xgb_model.fit(X_train, y_train)\n",
        "print(\"Model training completed! ✅\")\n"
      ],
      "metadata": {
        "id": "kCd1K4HpAOoP",
        "colab": {
          "base_uri": "https://localhost:8080/"
        },
        "outputId": "84e1f307-fd66-49ec-8b5e-8cd41b604582"
      },
      "execution_count": null,
      "outputs": [
        {
          "output_type": "stream",
          "name": "stdout",
          "text": [
            "Model training completed! ✅\n"
          ]
        }
      ]
    },
    {
      "cell_type": "code",
      "execution_count": null,
      "metadata": {
        "id": "Qna53z8H6zYZ"
      },
      "outputs": [],
      "source": [
        "# Import required libraries\n",
        "from sklearn.metrics import mean_absolute_error, mean_squared_error\n",
        "import numpy as np\n",
        "\n",
        "# Store trained models in a dictionary\n",
        "models = {\n",
        "    \"LightGBM\": lgbm_model,\n",
        "    \"XGBoost\": xgb_model,\n",
        "    \"Random Forest\": rf_model\n",
        "}"
      ]
    },
    {
      "cell_type": "code",
      "source": [
        "# Evaluate each model\n",
        "for model_name, model in models.items():\n",
        "    # Predict on validation set\n",
        "    y_pred = model.predict(X_val)\n",
        "\n",
        "    # Compute MAE & RMSE\n",
        "    mae = mean_absolute_error(y_val, y_pred)\n",
        "    rmse = np.sqrt(mean_squared_error(y_val, y_pred))\n",
        "\n",
        "    # Print results\n",
        "    print(f\"🔹 {model_name} Results:\")\n",
        "    print(f\"   ✅ Mean Absolute Error (MAE): {mae:.2f}\")\n",
        "    print(f\"   ✅ Root Mean Squared Error (RMSE): {rmse:.2f}\\n\")\n"
      ],
      "metadata": {
        "colab": {
          "base_uri": "https://localhost:8080/"
        },
        "id": "KVkw8UYwCl0t",
        "outputId": "2be1a6cf-12ba-4d96-c6fe-2e2cb713fe6b"
      },
      "execution_count": null,
      "outputs": [
        {
          "output_type": "stream",
          "name": "stdout",
          "text": [
            "🔹 LightGBM Results:\n",
            "   ✅ Mean Absolute Error (MAE): 35.84\n",
            "   ✅ Root Mean Squared Error (RMSE): 50.17\n",
            "\n",
            "🔹 XGBoost Results:\n",
            "   ✅ Mean Absolute Error (MAE): 36.28\n",
            "   ✅ Root Mean Squared Error (RMSE): 50.64\n",
            "\n",
            "🔹 Random Forest Results:\n",
            "   ✅ Mean Absolute Error (MAE): 35.57\n",
            "   ✅ Root Mean Squared Error (RMSE): 50.15\n",
            "\n"
          ]
        }
      ]
    },
    {
      "cell_type": "code",
      "source": [
        "# Define test dataset paths\n",
        "test_paths = {\n",
        "    \"FD001\": \"/content/test_FD001.txt\",\n",
        "    \"FD002\": \"/content/test_FD002.txt\",\n",
        "    \"FD003\": \"/content/test_FD003.txt\",\n",
        "    \"FD004\": \"/content/test_FD004.txt\"\n",
        "}\n",
        "\n",
        "# Define true RUL paths\n",
        "rul_paths = {\n",
        "    \"FD001\": \"/content/RUL_FD001.txt\",\n",
        "    \"FD002\": \"/content/RUL_FD002.txt\",\n",
        "    \"FD003\": \"/content/RUL_FD003.txt\",\n",
        "    \"FD004\": \"/content/RUL_FD004.txt\"\n",
        "}\n"
      ],
      "metadata": {
        "id": "09Ufs17WCnyd"
      },
      "execution_count": null,
      "outputs": []
    },
    {
      "cell_type": "code",
      "source": [
        "# Process each test dataset separately\n",
        "test_datasets = []\n",
        "\n",
        "for dataset_id, path in test_paths.items():\n",
        "    # Load test dataset\n",
        "    test_df = pd.read_csv(path, sep='\\s+', header=None)\n",
        "\n",
        "    # Assign column names\n",
        "    test_df.columns = column_names\n",
        "\n",
        "    # Keep only the last cycle for each engine\n",
        "    test_df = test_df.groupby(\"unit_number\").last().reset_index()\n",
        "\n",
        "    # Make unit_number unique by appending dataset_id\n",
        "    test_df[\"unit_number\"] = test_df[\"unit_number\"].astype(str) + \"_\" + dataset_id\n",
        "\n",
        "    # Convert dataset_id to numeric\n",
        "    test_df[\"dataset_id\"] = dataset_mapping[dataset_id]\n",
        "\n",
        "    # Load true RUL values (fix: read only first column to avoid ParserError)\n",
        "    true_rul = pd.read_csv(rul_paths[dataset_id], header=None, usecols=[0], names=[\"True_RUL\"])\n",
        "\n",
        "    # Add true RUL to test data\n",
        "    test_df[\"True_RUL\"] = true_rul[\"True_RUL\"]\n",
        "\n",
        "    # Append to list\n",
        "    test_datasets.append(test_df)\n"
      ],
      "metadata": {
        "id": "EtQOF-OkDE7A"
      },
      "execution_count": null,
      "outputs": []
    },
    {
      "cell_type": "code",
      "source": [
        "# Merge all test datasets\n",
        "merged_test_data = pd.concat(test_datasets, ignore_index=True)\n",
        "\n",
        "print(f\" Merged test dataset shape: {merged_test_data.shape}\")\n"
      ],
      "metadata": {
        "id": "Yj7-CB6bDV5N",
        "colab": {
          "base_uri": "https://localhost:8080/"
        },
        "outputId": "b2c64050-9750-4221-a8ee-635670d6ebd4"
      },
      "execution_count": null,
      "outputs": [
        {
          "output_type": "stream",
          "name": "stdout",
          "text": [
            " Merged test dataset shape: (707, 28)\n"
          ]
        }
      ]
    },
    {
      "cell_type": "code",
      "source": [
        "print(merged_test_data[['unit_number', 'dataset_id', 'operational_setting_1', 'operational_setting_2', 'operational_setting_3']].head(10))\n"
      ],
      "metadata": {
        "id": "SSSj7mLZDX82",
        "colab": {
          "base_uri": "https://localhost:8080/"
        },
        "outputId": "3166a5a4-0ffc-435d-b3b2-5cff66d93c61"
      },
      "execution_count": null,
      "outputs": [
        {
          "output_type": "stream",
          "name": "stdout",
          "text": [
            "  unit_number  dataset_id  operational_setting_1  operational_setting_2  \\\n",
            "0     1_FD001           1                -0.0006                 0.0004   \n",
            "1     2_FD001           1                 0.0018                -0.0001   \n",
            "2     3_FD001           1                -0.0016                 0.0004   \n",
            "3     4_FD001           1                 0.0012                 0.0004   \n",
            "4     5_FD001           1                -0.0013                -0.0004   \n",
            "5     6_FD001           1                 0.0076                -0.0003   \n",
            "6     7_FD001           1                 0.0016                -0.0001   \n",
            "7     8_FD001           1                 0.0016                -0.0005   \n",
            "8     9_FD001           1                -0.0003                 0.0004   \n",
            "9    10_FD001           1                -0.0018                 0.0004   \n",
            "\n",
            "   operational_setting_3  \n",
            "0                  100.0  \n",
            "1                  100.0  \n",
            "2                  100.0  \n",
            "3                  100.0  \n",
            "4                  100.0  \n",
            "5                  100.0  \n",
            "6                  100.0  \n",
            "7                  100.0  \n",
            "8                  100.0  \n",
            "9                  100.0  \n"
          ]
        }
      ]
    },
    {
      "cell_type": "code",
      "source": [
        "# Loop through models and evaluate on test data\n",
        "for model_name, model in models.items():\n",
        "    # Predict RUL\n",
        "    X_test = merged_test_data[features]  # Using 'features' defined earlier\n",
        "    merged_test_data[f\"Predicted_RUL_{model_name}\"] = model.predict(X_test)\n",
        "\n",
        "    # Ensure the columns are numeric\n",
        "    merged_test_data[\"True_RUL\"] = pd.to_numeric(merged_test_data[\"True_RUL\"], errors='coerce')\n",
        "    merged_test_data[f\"Predicted_RUL_{model_name}\"] = pd.to_numeric(merged_test_data[f\"Predicted_RUL_{model_name}\"], errors='coerce')\n",
        "\n",
        "    # Drop rows with NaN values in either prediction or true RUL\n",
        "    eval_df = merged_test_data.dropna(subset=[\"True_RUL\", f\"Predicted_RUL_{model_name}\"])\n",
        "\n",
        "    # Compute MAE & RMSE\n",
        "    mae = mean_absolute_error(eval_df[\"True_RUL\"], eval_df[f\"Predicted_RUL_{model_name}\"])\n",
        "    rmse = np.sqrt(mean_squared_error(eval_df[\"True_RUL\"], eval_df[f\"Predicted_RUL_{model_name}\"]))\n",
        "\n",
        "    # Print evaluation metrics\n",
        "    print(f\"✅ {model_name} Test Accuracy Results:\")\n",
        "    print(f\"   🔹 Mean Absolute Error (MAE): {mae:.2f}\")\n",
        "    print(f\"   🔹 Root Mean Squared Error (RMSE): {rmse:.2f}\\n\")\n"
      ],
      "metadata": {
        "id": "FtDfWLAbDeSy",
        "colab": {
          "base_uri": "https://localhost:8080/"
        },
        "outputId": "04f57804-f74b-476f-c02a-0f7aeaad3179"
      },
      "execution_count": null,
      "outputs": [
        {
          "output_type": "stream",
          "name": "stdout",
          "text": [
            "✅ LightGBM Test Accuracy Results:\n",
            "   🔹 Mean Absolute Error (MAE): 28.51\n",
            "   🔹 Root Mean Squared Error (RMSE): 38.90\n",
            "\n",
            "✅ XGBoost Test Accuracy Results:\n",
            "   🔹 Mean Absolute Error (MAE): 29.85\n",
            "   🔹 Root Mean Squared Error (RMSE): 40.01\n",
            "\n",
            "✅ Random Forest Test Accuracy Results:\n",
            "   🔹 Mean Absolute Error (MAE): 28.40\n",
            "   🔹 Root Mean Squared Error (RMSE): 39.76\n",
            "\n"
          ]
        }
      ]
    },
    {
      "cell_type": "markdown",
      "source": [
        "1️⃣ If MAE < 30 & RMSE < 50, model is industry-ready ✅"
      ],
      "metadata": {
        "id": "3ZuuppNAEKiO"
      }
    },
    {
      "cell_type": "code",
      "source": [
        "\n",
        "# Define a function to predict RUL based on user input\n",
        "def predict_rul(op1, op2, op3, sensor_values, dataset_id):\n",
        "    \"\"\"\n",
        "    Predicts Remaining Useful Life (RUL) given operational settings and sensor values.\n",
        "\n",
        "    Parameters:\n",
        "    - op1, op2, op3: Operational settings\n",
        "    - sensor_values: List of 21 sensor readings\n",
        "    - dataset_id: Numeric ID of dataset (1=FD001, 2=FD002, 3=FD003, 4=FD004)\n",
        "\n",
        "    Returns:\n",
        "    - Predicted RUL\n",
        "    \"\"\"\n",
        "    # Ensure input matches the model's expected feature format\n",
        "    input_data = np.array([[op1, op2, op3] + sensor_values + [dataset_id]])\n",
        "\n",
        "    # Predict RUL using the trained LightGBM model\n",
        "    predicted_rul = lgbm_model.predict(input_data)[0]\n",
        "\n",
        "    return predicted_rul"
      ],
      "metadata": {
        "id": "Gd4yL4SyFxfs"
      },
      "execution_count": null,
      "outputs": []
    },
    {
      "cell_type": "code",
      "source": [
        "import matplotlib.pyplot as plt\n",
        "\n",
        "# Input all 26 values in one line\n",
        "raw_input = input(\"Enter all 26 values (unit_number, time_in_cycles, op1, op2, op3, sensor1 to sensor21):\\n\")\n",
        "values = list(map(float, raw_input.strip().split()))\n",
        "\n",
        "# Unpack values\n",
        "unit_number = int(values[0])\n",
        "time_in_cycles = int(values[1])\n",
        "op1, op2, op3 = values[2:5]\n",
        "sensor_values = values[5:]\n",
        "\n",
        "# Dataset ID\n",
        "dataset_id = int(input(\"Enter Dataset ID (1=FD001, 2=FD002, 3=FD003, 4=FD004): \"))\n",
        "\n",
        "# Predict RUL\n",
        "predicted_rul = predict_rul(op1, op2, op3, sensor_values, dataset_id)\n",
        "\n",
        "# Calculate total life\n",
        "total_life = predicted_rul + time_in_cycles\n",
        "\n",
        "# Show RUL result\n",
        "print(f\"\\n🔧 Predicted Remaining Useful Life (RUL): {predicted_rul:.2f} cycles\")\n",
        "print(f\"📊 Engine has already run for {time_in_cycles} cycles.\")\n",
        "print(f\"📈 Total Estimated Life: {total_life:.2f} cycles\")\n",
        "\n",
        "# Plot Pie Chart\n",
        "labels = ['Used Life', 'Remaining Life']\n",
        "sizes = [time_in_cycles, predicted_rul]\n",
        "colors = ['orange', 'green']\n",
        "\n",
        "plt.figure(figsize=(6,6))\n",
        "plt.pie(sizes, labels=labels, autopct='%1.1f%%', startangle=140, colors=colors)\n",
        "plt.title(f\"Engine Lifecycle (Total ≈ {total_life:.0f} Cycles)\")\n",
        "plt.axis('equal')  # Equal aspect ratio ensures pie is a circle.\n",
        "plt.show()\n",
        "\n"
      ],
      "metadata": {
        "id": "pp6613VBFxzY",
        "colab": {
          "base_uri": "https://localhost:8080/",
          "height": 677
        },
        "outputId": "318f8412-e952-4970-cf86-df5df306dc1a"
      },
      "execution_count": null,
      "outputs": [
        {
          "output_type": "stream",
          "name": "stdout",
          "text": [
            "Enter all 26 values (unit_number, time_in_cycles, op1, op2, op3, sensor1 to sensor21):\n",
            "1 2 -0.0027 -0.0003 100.0 518.67 641.71 1588.45 1395.42 14.62 21.61 554.85 2388.01 9054.42 1.30 47.50 522.16 2388.06 8139.62 8.3803 0.03 393 2388 100.00 39.02 23.3916\n",
            "Enter Dataset ID (1=FD001, 2=FD002, 3=FD003, 4=FD004): 1\n",
            "\n",
            "🔧 Predicted Remaining Useful Life (RUL): 162.63 cycles\n",
            "📊 Engine has already run for 2 cycles.\n",
            "📈 Total Estimated Life: 164.63 cycles\n"
          ]
        },
        {
          "output_type": "stream",
          "name": "stderr",
          "text": [
            "/usr/local/lib/python3.11/dist-packages/sklearn/utils/deprecation.py:151: FutureWarning: 'force_all_finite' was renamed to 'ensure_all_finite' in 1.6 and will be removed in 1.8.\n",
            "  warnings.warn(\n"
          ]
        },
        {
          "output_type": "display_data",
          "data": {
            "text/plain": [
              "<Figure size 600x600 with 1 Axes>"
            ],
            "image/png": "[encoded data removed]"
          },
          "metadata": {}
        }
      ]
    },
    {
      "cell_type": "markdown",
      "source": [
        "1 2 -0.0027 -0.0003 100.0 518.67 641.71 1588.45 1395.42 14.62 21.61 554.85 2388.01 9054.42 1.30 47.50 522.16 2388.06 8139.62 8.3803 0.03 393 2388 100.00 39.02 23.3916  "
      ],
      "metadata": {
        "id": "NCXZWGWFG5Ds"
      }
    },
    {
      "cell_type": "code",
      "source": [
        "import joblib\n",
        "\n",
        "# Save the trained Random Forest model\n",
        "joblib.dump(rf_model, \"/content/rul_random_forest_model.pkl\")\n",
        "\n",
        "print(\" Random Forest Model Saved for Deployment!\")\n"
      ],
      "metadata": {
        "id": "Y2IY5YyYF0M5",
        "colab": {
          "base_uri": "https://localhost:8080/"
        },
        "outputId": "7c473867-4bd0-4571-f14a-43c5be3ebb93"
      },
      "execution_count": null,
      "outputs": [
        {
          "output_type": "stream",
          "name": "stdout",
          "text": [
            " Random Forest Model Saved for Deployment!\n"
          ]
        }
      ]
    },
    {
      "cell_type": "code",
      "source": [
        "import joblib\n",
        "import matplotlib.pyplot as plt\n",
        "\n",
        "# Load the trained model\n",
        "rf_model = joblib.load(\"rul_random_forest_model.pkl\")\n",
        "\n",
        "# Input from user\n",
        "raw_input = input(\"Enter all 26 values (unit_number, time_in_cycles, op1, op2, op3, sensor1 to sensor21):\\n\")\n",
        "values = list(map(float, raw_input.replace(\",\", \" \").strip().split()))\n",
        "\n",
        "# Unpack values\n",
        "unit_number = values[0]\n",
        "time_in_cycles = values[1]  # Engine's age (used life)\n",
        "features = values[2:] + [2]  # Add dataset ID at end (FD002 in this example)\n",
        "\n",
        "# Predict RUL\n",
        "predicted_rul = rf_model.predict([features])[0]\n",
        "\n",
        "# Compute total life\n",
        "total_life = time_in_cycles + predicted_rul\n",
        "\n",
        "# Output\n",
        "print(f\"\\n🧮 Predicted RUL: {predicted_rul:.2f} cycles\")\n",
        "print(f\"⏱️ Used Life (entered): {time_in_cycles:.2f} cycles\")\n",
        "print(f\"📊 Total Estimated Life: {total_life:.2f} cycles\")\n",
        "\n",
        "# Pie chart\n",
        "labels = ['Used Life', 'Remaining Life']\n",
        "sizes = [time_in_cycles, predicted_rul]\n",
        "colors = ['#FF6347', '#00BFFF']\n",
        "\n",
        "plt.figure(figsize=(6, 6))\n",
        "plt.pie(sizes, labels=labels, autopct='%1.1f%%', startangle=140, colors=colors)\n",
        "plt.title(f\"Engine Lifecycle (Total ≈ {total_life:.0f} Cycles)\")\n",
        "plt.axis('equal')\n",
        "plt.show()\n"
      ],
      "metadata": {
        "id": "gbw6aNaSMQFQ",
        "colab": {
          "base_uri": "https://localhost:8080/",
          "height": 660
        },
        "outputId": "bed505cb-81cb-4cd5-976b-18d2e4f673a3"
      },
      "execution_count": null,
      "outputs": [
        {
          "output_type": "stream",
          "name": "stdout",
          "text": [
            "Enter all 26 values (unit_number, time_in_cycles, op1, op2, op3, sensor1 to sensor21):\n",
            "1 2 -0.0027 -0.0003 100.0 518.67 641.71 1588.45 1395.42 14.62 21.61 554.85 2388.01 9054.42 1.30 47.50 522.16 2388.06 8139.62 8.3803 0.03 393 2388 100.00 39.02 23.3916\n",
            "\n",
            "🧮 Predicted RUL: 163.80 cycles\n",
            "⏱️ Used Life (entered): 2.00 cycles\n",
            "📊 Total Estimated Life: 165.80 cycles\n"
          ]
        },
        {
          "output_type": "stream",
          "name": "stderr",
          "text": [
            "/usr/local/lib/python3.11/dist-packages/sklearn/utils/validation.py:2739: UserWarning: X does not have valid feature names, but RandomForestRegressor was fitted with feature names\n",
            "  warnings.warn(\n"
          ]
        },
        {
          "output_type": "display_data",
          "data": {
            "text/plain": [
              "<Figure size 600x600 with 1 Axes>"
            ],
            "image/png": "[encoded data removed]"
          },
          "metadata": {}
        }
      ]
    },
    {
      "cell_type": "code",
      "source": [
        "\n",
        "from google.colab import files\n",
        "\n",
        "# Download the saved model file\n",
        "files.download(\"rul_random_forest_model.pkl\")"
      ],
      "metadata": {
        "id": "Egq3p-Qgd42w",
        "colab": {
          "base_uri": "https://localhost:8080/",
          "height": 34
        },
        "outputId": "54c22597-f7f0-4384-9ca2-fb30b25e8290"
      },
      "execution_count": null,
      "outputs": [
        {
          "output_type": "display_data",
          "data": {
            "text/plain": [
              "<IPython.core.display.Javascript object>"
            ],
            "application/javascript": [
              "\n",
              "    async function download(id, filename, size) {\n",
              "      if (!google.colab.kernel.accessAllowed) {\n",
              "        return;\n",
              "      }\n",
              "      const div = document.createElement('div');\n",
              "      const label = document.createElement('label');\n",
              "      label.textContent = `Downloading \"${filename}\": `;\n",
              "      div.appendChild(label);\n",
              "      const progress = document.createElement('progress');\n",
              "      progress.max = size;\n",
              "      div.appendChild(progress);\n",
              "      document.body.appendChild(div);\n",
              "\n",
              "      const buffers = [];\n",
              "      let downloaded = 0;\n",
              "\n",
              "      const channel = await google.colab.kernel.comms.open(id);\n",
              "      // Send a message to notify the kernel that we're ready.\n",
              "      channel.send({})\n",
              "\n",
              "      for await (const message of channel.messages) {\n",
              "        // Send a message to notify the kernel that we're ready.\n",
              "        channel.send({})\n",
              "        if (message.buffers) {\n",
              "          for (const buffer of message.buffers) {\n",
              "            buffers.push(buffer);\n",
              "            downloaded += buffer.byteLength;\n",
              "            progress.value = downloaded;\n",
              "          }\n",
              "        }\n",
              "      }\n",
              "      const blob = new Blob(buffers, {type: 'application/binary'});\n",
              "      const a = document.createElement('a');\n",
              "      a.href = window.URL.createObjectURL(blob);\n",
              "      a.download = filename;\n",
              "      div.appendChild(a);\n",
              "      a.click();\n",
              "      div.remove();\n",
              "    }\n",
              "  "
            ]
          },
          "metadata": {}
        },
        {
          "output_type": "display_data",
          "data": {
            "text/plain": [
              "<IPython.core.display.Javascript object>"
            ],
            "application/javascript": [
              "download(\"download_c59716dd-414f-4b3f-b543-e5577aa4f55a\", \"rul_random_forest_model.pkl\", 1095305041)"
            ]
          },
          "metadata": {}
        }
      ]
    },
    {
      "cell_type": "code",
      "source": [],
      "metadata": {
        "id": "8fpVZSD_ElHr"
      },
      "execution_count": null,
      "outputs": []
    }
  ],
  "metadata": {
    "colab": {
      "provenance": [],
      "authorship_tag": "ABX9TyMuyLOaiDXyjy1EpoPMhj0g",
      "include_colab_link": true
    },
    "kernelspec": {
      "display_name": "Python 3",
      "name": "python3"
    },
    "language_info": {
      "name": "python"
    }
  },
  "nbformat": 4,
  "nbformat_minor": 0
}